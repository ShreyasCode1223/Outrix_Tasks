{
  "nbformat": 4,
  "nbformat_minor": 0,
  "metadata": {
    "colab": {
      "provenance": [],
      "authorship_tag": "ABX9TyPO8e5XgCXd6L8lTJqOHxmm",
      "include_colab_link": true
    },
    "kernelspec": {
      "name": "python3",
      "display_name": "Python 3"
    },
    "language_info": {
      "name": "python"
    }
  },
  "cells": [
    {
      "cell_type": "markdown",
      "metadata": {
        "id": "view-in-github",
        "colab_type": "text"
      },
      "source": [
        "<a href=\"https://colab.research.google.com/github/ShreyasCode1223/Outrix_Tasks/blob/main/Movie_Rec_Sys.ipynb\" target=\"_parent\"><img src=\"https://colab.research.google.com/assets/colab-badge.svg\" alt=\"Open In Colab\"/></a>"
      ]
    },
    {
      "cell_type": "code",
      "execution_count": null,
      "metadata": {
        "colab": {
          "base_uri": "https://localhost:8080/"
        },
        "id": "stdi3Zt7B7MU",
        "outputId": "287cbe72-e0ff-4378-c39e-0942fc7f2465"
      },
      "outputs": [
        {
          "output_type": "stream",
          "name": "stdout",
          "text": [
            "Dataset loaded successfully!\n",
            "\n",
            "Columns in the original DataFrame:\n",
            "Index(['budget', 'genres', 'homepage', 'id', 'keywords', 'original_language',\n",
            "       'original_title', 'overview', 'popularity', 'production_companies',\n",
            "       'production_countries', 'release_date', 'revenue', 'runtime',\n",
            "       'spoken_languages', 'status', 'tagline', 'title', 'vote_average',\n",
            "       'vote_count'],\n",
            "      dtype='object')\n"
          ]
        }
      ],
      "source": [
        "import pandas as pd\n",
        "import numpy as np\n",
        "import ast\n",
        "from sklearn.feature_extraction.text import TfidfVectorizer\n",
        "from sklearn.metrics.pairwise import linear_kernel\n",
        "\n",
        "# Load the dataset. Make sure you have uploaded tmdb_5000_movies.csv to your Colab session.\n",
        "try:\n",
        "    df_movies = pd.read_csv('/content/tmdb_5000_movies.csv.zip')\n",
        "    print(\"Dataset loaded successfully!\")\n",
        "except FileNotFoundError:\n",
        "    print(\"Error: The file 'tmdb_5000_movies.csv' was not found.\")\n",
        "    print(\"Please upload the file to your Google Colab session.\")\n",
        "    exit()\n",
        "\n",
        "print(\"\\nColumns in the original DataFrame:\")\n",
        "print(df_movies.columns)"
      ]
    },
    {
      "cell_type": "code",
      "source": [
        "# Function to safely parse a stringified list of dictionaries\n",
        "def parse_features(features_string):\n",
        "    if isinstance(features_string, str):\n",
        "        try:\n",
        "            # Safely convert the string to a Python list\n",
        "            features_list = ast.literal_eval(features_string)\n",
        "            # Extract the 'name' from each dictionary in the list\n",
        "            return ' '.join([feature['name'] for feature in features_list])\n",
        "        except (ValueError, SyntaxError):\n",
        "            return ''\n",
        "    return ''\n",
        "\n",
        "# Apply the function to the 'genres' column\n",
        "df_movies['genres'] = df_movies['genres'].apply(parse_features)\n",
        "df_movies['keywords'] = df_movies['keywords'].apply(parse_features)\n",
        "\n",
        "# Combine relevant features into a single 'tags' column\n",
        "# We will use 'title', 'genres', and 'keywords' for richer content.\n",
        "df_movies['tags'] = df_movies['title'].fillna('') + ' ' + df_movies['genres'].fillna('') + ' ' + df_movies['keywords'].fillna('')\n",
        "\n",
        "# Create a clean DataFrame with just the columns we need\n",
        "df_rec = df_movies[['title', 'tags']].copy()\n",
        "\n",
        "# Drop rows where 'tags' might be empty\n",
        "df_rec.dropna(subset=['tags'], inplace=True)\n",
        "df_rec = df_rec[df_rec['tags'] != '']\n",
        "\n",
        "print(\"\\nProcessed DataFrame (first 5 rows):\")\n",
        "print(df_rec.head())\n",
        "print(f\"\\nNumber of movies for recommendation: {len(df_rec)}\")"
      ],
      "metadata": {
        "colab": {
          "base_uri": "https://localhost:8080/"
        },
        "id": "6CPRUBmgCFId",
        "outputId": "c53509db-8cde-4a90-b6a2-ba071921ec05"
      },
      "execution_count": null,
      "outputs": [
        {
          "output_type": "stream",
          "name": "stdout",
          "text": [
            "\n",
            "Processed DataFrame (first 5 rows):\n",
            "                                      title  \\\n",
            "0                                    Avatar   \n",
            "1  Pirates of the Caribbean: At World's End   \n",
            "2                                   Spectre   \n",
            "3                     The Dark Knight Rises   \n",
            "4                               John Carter   \n",
            "\n",
            "                                                tags  \n",
            "0  Avatar Action Adventure Fantasy Science Fictio...  \n",
            "1  Pirates of the Caribbean: At World's End Adven...  \n",
            "2  Spectre Action Adventure Crime spy based on no...  \n",
            "3  The Dark Knight Rises Action Crime Drama Thril...  \n",
            "4  John Carter Action Adventure Science Fiction b...  \n",
            "\n",
            "Number of movies for recommendation: 4803\n"
          ]
        }
      ]
    },
    {
      "cell_type": "code",
      "source": [
        "# Initialize a TF-IDF Vectorizer to convert text to numbers\n",
        "tfidf = TfidfVectorizer(stop_words='english')\n",
        "\n",
        "# Apply the vectorizer on the 'tags' column to create the feature matrix\n",
        "tfidf_matrix = tfidf.fit_transform(df_rec['tags'])\n",
        "\n",
        "# Calculate the cosine similarity matrix, which measures the similarity between movies\n",
        "cosine_sim = linear_kernel(tfidf_matrix, tfidf_matrix)\n",
        "\n",
        "# Create a reverse map of movie titles to their indices for quick lookup\n",
        "indices = pd.Series(df_rec.index, index=df_rec['title']).drop_duplicates()\n",
        "\n",
        "print(\"\\nCosine similarity matrix shape:\", cosine_sim.shape)"
      ],
      "metadata": {
        "id": "ZwjfFGSkCJhc",
        "colab": {
          "base_uri": "https://localhost:8080/"
        },
        "outputId": "b7c32613-97fc-49c8-cd66-2a19e4943135"
      },
      "execution_count": null,
      "outputs": [
        {
          "output_type": "stream",
          "name": "stdout",
          "text": [
            "\n",
            "Cosine similarity matrix shape: (4803, 4803)\n"
          ]
        }
      ]
    },
    {
      "cell_type": "code",
      "source": [
        "def get_recommendations(title, cosine_sim=cosine_sim, df=df_rec):\n",
        "    # Check if the movie title exists in our database\n",
        "    if title not in indices:\n",
        "        return f\"Movie '{title}' not found in the database. Please check the spelling.\"\n",
        "\n",
        "    # Get the index of the movie that matches the title\n",
        "    idx = indices[title]\n",
        "\n",
        "    # Get the pairwise similarity scores of all movies with that movie\n",
        "    sim_scores = list(enumerate(cosine_sim[idx]))\n",
        "\n",
        "    # Sort the movies based on their similarity scores in descending order\n",
        "    sim_scores = sorted(sim_scores, key=lambda x: x[1], reverse=True)\n",
        "\n",
        "    # Get the scores of the 5 most similar movies (skipping the first one, which is the movie itself)\n",
        "    sim_scores = sim_scores[1:6]\n",
        "\n",
        "    # Get the movie indices from the sorted list\n",
        "    movie_indices = [i[0] for i in sim_scores]\n",
        "\n",
        "    # Return the titles of the top 5 most similar movies\n",
        "    return df['title'].iloc[movie_indices]\n",
        "\n",
        "# Test the recommender with a movie\n",
        "print(\"\\nRecommended movies for 'The Avengers':\")\n",
        "print(get_recommendations('The Avengers'))\n",
        "\n",
        "print(\"\\nRecommended movies for 'The Dark Knight Rises':\")\n",
        "print(get_recommendations('The Dark Knight Rises'))"
      ],
      "metadata": {
        "id": "bGH9sT3Ui-Y_",
        "colab": {
          "base_uri": "https://localhost:8080/"
        },
        "outputId": "c3377cec-2250-4d78-ee2f-ad0228475ca7"
      },
      "execution_count": null,
      "outputs": [
        {
          "output_type": "stream",
          "name": "stdout",
          "text": [
            "\n",
            "Recommended movies for 'The Avengers':\n",
            "7                  Avengers: Age of Ultron\n",
            "182                                Ant-Man\n",
            "79                              Iron Man 2\n",
            "85     Captain America: The Winter Soldier\n",
            "26              Captain America: Civil War\n",
            "Name: title, dtype: object\n",
            "\n",
            "Recommended movies for 'The Dark Knight Rises':\n",
            "65      The Dark Knight\n",
            "119       Batman Begins\n",
            "1359             Batman\n",
            "210      Batman & Robin\n",
            "428      Batman Returns\n",
            "Name: title, dtype: object\n"
          ]
        }
      ]
    },
    {
      "cell_type": "code",
      "source": [],
      "metadata": {
        "id": "7mes6d8ukSeO"
      },
      "execution_count": null,
      "outputs": []
    }
  ]
}